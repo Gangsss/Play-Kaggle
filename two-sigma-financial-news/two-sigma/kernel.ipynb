{
  "cells": [
    {
      "metadata": {
        "_uuid": "8f2839f25d086af736a60e9eeb907d3b93b6e0e5",
        "_cell_guid": "b1076dfc-b9ad-4769-8c92-a6c4dae69d19",
        "trusted": true
      },
      "cell_type": "code",
      "source": "# This Python 3 environment comes with many helpful analytics libraries installed\n# It is defined by the kaggle/python docker image: https://github.com/kaggle/docker-python\n# For example, here's several helpful packages to load in \n\nimport numpy as np # linear algebra\nimport pandas as pd # data processing, CSV file I/O (e.g. pd.read_csv)\n\n# Input data files are available in the \"../input/\" directory.\n# For example, running this (by clicking run or pressing Shift+Enter) will list the files in the input directory\n\nimport os\nprint(os.listdir(\"../input\"))\n\n# Any results you write to the current directory are saved as output.",
      "execution_count": null,
      "outputs": []
    },
    {
      "metadata": {
        "_uuid": "f958885971c5f7db8e3a8d3136bbe80cf2698609"
      },
      "cell_type": "markdown",
      "source": "## Using kernel\n### https://www.kaggle.com/dster/two-sigma-news-official-getting-started-kernel\n### kernel에 이렇게 노트북을 쓸 수 있는 공간이 있다는 것을 처음 알게되었습니다.\n### 위의 대회에서 kernel을 꼭 써야하는 규칙이 있습니다.\n###  2007년 2월 부터 2016년12월까지의 market,news데이터를 주는데 위 기간의 거래일에 대한 예측을하기 위해 미래의 데이터를 사용하지 않도록 정보 흐름을 제어하기 위해 이용해야 한다고 합니다."
    },
    {
      "metadata": {
        "_uuid": "28f8e1ab8177303f8f7d974c427115235345f73b"
      },
      "cell_type": "markdown",
      "source": "----"
    },
    {
      "metadata": {
        "_uuid": "d64deed822735d2201ce788c7c3814f6c2503734"
      },
      "cell_type": "markdown",
      "source": "# End to End usage Example"
    },
    {
      "metadata": {
        "trusted": true,
        "_uuid": "5227e1ad5f98b700d2b6fdd40a3781f941a85377"
      },
      "cell_type": "code",
      "source": "from kaggle.competitions import twosigmanews\nenv = twosigmanews.make_env()\n\n(market_train_df, news_train_df) = env.get_training_data()\ntrain_my_model(market_train_df, news_train_df)\n\nfor (market_obs_df, news_obs_df, predictions_template_df) in env.get_prediction_days():\n  predictions_df = make_my_predictions(market_obs_df, news_obs_df, predictions_template_df)\n  env.predict(predictions_df)\n\nenv.write_submission_file()",
      "execution_count": null,
      "outputs": []
    },
    {
      "metadata": {
        "_uuid": "226b3370ef37710d167d66296acd94a77a1ebe2f"
      },
      "cell_type": "markdown",
      "source": "-----"
    },
    {
      "metadata": {
        "_uuid": "c6822cb76293613116cbb50eb6b1a6c3d2702e92"
      },
      "cell_type": "markdown",
      "source": "## 1. Get Env&data"
    },
    {
      "metadata": {
        "_cell_guid": "79c7e3d0-c299-4dcb-8224-4455121ee9b0",
        "_uuid": "d629ff2d2480ee46fbb7e2d37f6b5fab8052498a",
        "trusted": true
      },
      "cell_type": "code",
      "source": "# get environment!\n\nfrom kaggle.competitions import twosigmanews\n# You can only call make_env() once, so don't lose it!\nenv = twosigmanews.make_env()",
      "execution_count": null,
      "outputs": []
    },
    {
      "metadata": {
        "_uuid": "95751fe8b4fdc19a5361924877fa1d574f984c95"
      },
      "cell_type": "markdown",
      "source": "## get_training_data function\n## trainging data을 튜플로 return\n### - market_train_df: DataFrame with market training data\n### - news_train_df: DataFrame with news training data\n"
    },
    {
      "metadata": {
        "trusted": true,
        "_uuid": "a7bdadf68e8240746de4b49b4e8e59fe556aaa4c"
      },
      "cell_type": "code",
      "source": "(market_train_df, news_train_df) = env.get_training_data()",
      "execution_count": null,
      "outputs": []
    },
    {
      "metadata": {
        "trusted": true,
        "_uuid": "22320de10c496a724f76a739351926bb52d83df7"
      },
      "cell_type": "code",
      "source": "# market data\nmarket_train_df.head()",
      "execution_count": null,
      "outputs": []
    },
    {
      "metadata": {
        "trusted": true,
        "_uuid": "85b36c9b0befd5bf8461213890fe2fdf3fdae25a"
      },
      "cell_type": "code",
      "source": "# news data\nnews_train_df.head()",
      "execution_count": null,
      "outputs": []
    },
    {
      "metadata": {
        "trusted": true,
        "_uuid": "2ffad8dd38a604da1731360fa049bec2d62d7d62"
      },
      "cell_type": "markdown",
      "source": "### get_prediction_days function\n### train data 이후의 test data\n### market_observations_df:  market test data\n### news_observations_df: news test data\n### predictions_template_df: DataFrame with assetCode and confidenceValue columns, prefilled with confidenceValue = 0, to be filled in and passed back to the predict function. 제출용 템플릿"
    },
    {
      "metadata": {
        "trusted": true,
        "_uuid": "c82af746804ef8c43b8c612d0f0e92f1ccff1088"
      },
      "cell_type": "code",
      "source": "# You can only iterate through a result from `get_prediction_days()` once\n# so be careful not to lose it once you start iterating.\ndays = env.get_prediction_days()",
      "execution_count": 10,
      "outputs": []
    },
    {
      "metadata": {
        "trusted": true,
        "_uuid": "ee833648abd283e36871d785794006426167f3c2"
      },
      "cell_type": "code",
      "source": "(market_obs_df, news_obs_df, predictions_template_df) = next(days)\n",
      "execution_count": 11,
      "outputs": []
    },
    {
      "metadata": {
        "trusted": true,
        "_uuid": "fd9db374c5c8153dcf8eea780626e8d348f747a5"
      },
      "cell_type": "code",
      "source": "#market test data\nmarket_obs_df.head()",
      "execution_count": 12,
      "outputs": [
        {
          "output_type": "execute_result",
          "execution_count": 12,
          "data": {
            "text/plain": "                       time           ...           returnsOpenPrevMktres10\n0 2017-01-03 22:00:00+00:00           ...                          0.001985\n1 2017-01-03 22:00:00+00:00           ...                               NaN\n2 2017-01-03 22:00:00+00:00           ...                         -0.015277\n3 2017-01-03 22:00:00+00:00           ...                          0.011201\n4 2017-01-03 22:00:00+00:00           ...                         -0.010078\n\n[5 rows x 14 columns]",
            "text/html": "<div>\n<style scoped>\n    .dataframe tbody tr th:only-of-type {\n        vertical-align: middle;\n    }\n\n    .dataframe tbody tr th {\n        vertical-align: top;\n    }\n\n    .dataframe thead th {\n        text-align: right;\n    }\n</style>\n<table border=\"1\" class=\"dataframe\">\n  <thead>\n    <tr style=\"text-align: right;\">\n      <th></th>\n      <th>time</th>\n      <th>assetCode</th>\n      <th>assetName</th>\n      <th>volume</th>\n      <th>close</th>\n      <th>open</th>\n      <th>returnsClosePrevRaw1</th>\n      <th>returnsOpenPrevRaw1</th>\n      <th>returnsClosePrevMktres1</th>\n      <th>returnsOpenPrevMktres1</th>\n      <th>returnsClosePrevRaw10</th>\n      <th>returnsOpenPrevRaw10</th>\n      <th>returnsClosePrevMktres10</th>\n      <th>returnsOpenPrevMktres10</th>\n    </tr>\n  </thead>\n  <tbody>\n    <tr>\n      <th>0</th>\n      <td>2017-01-03 22:00:00+00:00</td>\n      <td>A.N</td>\n      <td>Agilent Technologies Inc</td>\n      <td>1739726.0</td>\n      <td>46.49</td>\n      <td>45.93</td>\n      <td>0.020413</td>\n      <td>0.003715</td>\n      <td>0.009812</td>\n      <td>0.003744</td>\n      <td>0.015565</td>\n      <td>-0.011736</td>\n      <td>0.015757</td>\n      <td>0.001985</td>\n    </tr>\n    <tr>\n      <th>1</th>\n      <td>2017-01-03 22:00:00+00:00</td>\n      <td>AA.N</td>\n      <td>Alcoa Corp</td>\n      <td>2746634.0</td>\n      <td>28.83</td>\n      <td>28.60</td>\n      <td>0.026709</td>\n      <td>-0.012772</td>\n      <td>0.015256</td>\n      <td>-0.012756</td>\n      <td>-0.019388</td>\n      <td>-0.035413</td>\n      <td>NaN</td>\n      <td>NaN</td>\n    </tr>\n    <tr>\n      <th>2</th>\n      <td>2017-01-03 22:00:00+00:00</td>\n      <td>AAL.O</td>\n      <td>American Airlines Group Inc</td>\n      <td>6737752.0</td>\n      <td>46.30</td>\n      <td>47.28</td>\n      <td>-0.008353</td>\n      <td>-0.002952</td>\n      <td>-0.026595</td>\n      <td>-0.002917</td>\n      <td>-0.027924</td>\n      <td>-0.027361</td>\n      <td>-0.027729</td>\n      <td>-0.015277</td>\n    </tr>\n    <tr>\n      <th>3</th>\n      <td>2017-01-03 22:00:00+00:00</td>\n      <td>AAN.N</td>\n      <td>Aaron's Inc</td>\n      <td>760498.0</td>\n      <td>31.90</td>\n      <td>32.40</td>\n      <td>-0.002813</td>\n      <td>0.010290</td>\n      <td>-0.020835</td>\n      <td>0.010329</td>\n      <td>-0.026846</td>\n      <td>-0.021739</td>\n      <td>-0.026324</td>\n      <td>0.011201</td>\n    </tr>\n    <tr>\n      <th>4</th>\n      <td>2017-01-03 22:00:00+00:00</td>\n      <td>AAP.N</td>\n      <td>Advance Auto Parts Inc</td>\n      <td>691526.0</td>\n      <td>170.60</td>\n      <td>170.78</td>\n      <td>0.008751</td>\n      <td>-0.003152</td>\n      <td>-0.001344</td>\n      <td>-0.003128</td>\n      <td>-0.007281</td>\n      <td>-0.014546</td>\n      <td>-0.007198</td>\n      <td>-0.010078</td>\n    </tr>\n  </tbody>\n</table>\n</div>"
          },
          "metadata": {}
        }
      ]
    },
    {
      "metadata": {
        "trusted": true,
        "_uuid": "fdcdf7e042dcc064efd4db5c4f9b33937c780658"
      },
      "cell_type": "code",
      "source": "#news test data\nnews_obs_df.head()",
      "execution_count": 13,
      "outputs": [
        {
          "output_type": "execute_result",
          "execution_count": 13,
          "data": {
            "text/plain": "                       time      ...       volumeCounts7D\n0 2016-12-30 22:00:02+00:00      ...                    0\n1 2016-12-30 22:00:02+00:00      ...                    0\n2 2016-12-30 22:00:06+00:00      ...                    0\n3 2016-12-30 22:00:06+00:00      ...                    2\n4 2016-12-30 22:00:17+00:00      ...                    1\n\n[5 rows x 35 columns]",
            "text/html": "<div>\n<style scoped>\n    .dataframe tbody tr th:only-of-type {\n        vertical-align: middle;\n    }\n\n    .dataframe tbody tr th {\n        vertical-align: top;\n    }\n\n    .dataframe thead th {\n        text-align: right;\n    }\n</style>\n<table border=\"1\" class=\"dataframe\">\n  <thead>\n    <tr style=\"text-align: right;\">\n      <th></th>\n      <th>time</th>\n      <th>sourceTimestamp</th>\n      <th>firstCreated</th>\n      <th>sourceId</th>\n      <th>headline</th>\n      <th>urgency</th>\n      <th>takeSequence</th>\n      <th>provider</th>\n      <th>subjects</th>\n      <th>audiences</th>\n      <th>bodySize</th>\n      <th>companyCount</th>\n      <th>headlineTag</th>\n      <th>marketCommentary</th>\n      <th>sentenceCount</th>\n      <th>wordCount</th>\n      <th>assetCodes</th>\n      <th>assetName</th>\n      <th>firstMentionSentence</th>\n      <th>relevance</th>\n      <th>sentimentClass</th>\n      <th>sentimentNegative</th>\n      <th>sentimentNeutral</th>\n      <th>sentimentPositive</th>\n      <th>sentimentWordCount</th>\n      <th>noveltyCount12H</th>\n      <th>noveltyCount24H</th>\n      <th>noveltyCount3D</th>\n      <th>noveltyCount5D</th>\n      <th>noveltyCount7D</th>\n      <th>volumeCounts12H</th>\n      <th>volumeCounts24H</th>\n      <th>volumeCounts3D</th>\n      <th>volumeCounts5D</th>\n      <th>volumeCounts7D</th>\n    </tr>\n  </thead>\n  <tbody>\n    <tr>\n      <th>0</th>\n      <td>2016-12-30 22:00:02+00:00</td>\n      <td>2016-12-30 22:00:02+00:00</td>\n      <td>2016-12-30 22:00:02+00:00</td>\n      <td>02ae05e4a5650826</td>\n      <td>Enstar Announces Acquisition of Dana Companies...</td>\n      <td>3</td>\n      <td>1</td>\n      <td>GNW</td>\n      <td>{'MRG', 'MINS', 'NEWR', 'INSR', 'BACT', 'BM', ...</td>\n      <td>{'CNR', 'GNWN'}</td>\n      <td>3742</td>\n      <td>1</td>\n      <td></td>\n      <td>False</td>\n      <td>19</td>\n      <td>575</td>\n      <td>{'ESGR.OQ', 'ESGR.O'}</td>\n      <td>Enstar Group Ltd</td>\n      <td>1</td>\n      <td>1.0</td>\n      <td>1</td>\n      <td>0.222786</td>\n      <td>0.382740</td>\n      <td>0.394474</td>\n      <td>555</td>\n      <td>0</td>\n      <td>0</td>\n      <td>0</td>\n      <td>0</td>\n      <td>0</td>\n      <td>0</td>\n      <td>0</td>\n      <td>0</td>\n      <td>0</td>\n      <td>0</td>\n    </tr>\n    <tr>\n      <th>1</th>\n      <td>2016-12-30 22:00:02+00:00</td>\n      <td>2016-12-30 22:00:02+00:00</td>\n      <td>2016-12-30 22:00:02+00:00</td>\n      <td>8a59a41e3dc3f255</td>\n      <td>ENSTAR ANNOUNCES ACQUISITION OF DANA COMPANIES</td>\n      <td>1</td>\n      <td>1</td>\n      <td>RTRS</td>\n      <td>{'BLR', 'MINS', 'INSR', 'FINS', 'US', 'CMPNY',...</td>\n      <td>{'E', 'U'}</td>\n      <td>0</td>\n      <td>1</td>\n      <td></td>\n      <td>False</td>\n      <td>1</td>\n      <td>7</td>\n      <td>{'ESGR.OQ', 'ESGR.O'}</td>\n      <td>Enstar Group Ltd</td>\n      <td>1</td>\n      <td>1.0</td>\n      <td>0</td>\n      <td>0.172375</td>\n      <td>0.611033</td>\n      <td>0.216592</td>\n      <td>7</td>\n      <td>0</td>\n      <td>0</td>\n      <td>0</td>\n      <td>0</td>\n      <td>0</td>\n      <td>0</td>\n      <td>0</td>\n      <td>0</td>\n      <td>0</td>\n      <td>0</td>\n    </tr>\n    <tr>\n      <th>2</th>\n      <td>2016-12-30 22:00:06+00:00</td>\n      <td>2016-12-30 22:00:06+00:00</td>\n      <td>2016-12-30 22:00:02+00:00</td>\n      <td>c8ee6bcb3de3a944</td>\n      <td>ENSTAR ANNOUNCES ACQUISITION OF DANA COMPANIES</td>\n      <td>1</td>\n      <td>2</td>\n      <td>RTRS</td>\n      <td>{'BLR', 'AUTO', 'MINS', 'CYCS', 'INSR', 'FINS'...</td>\n      <td>{'E', 'U'}</td>\n      <td>0</td>\n      <td>2</td>\n      <td></td>\n      <td>False</td>\n      <td>1</td>\n      <td>7</td>\n      <td>{'DAN.N'}</td>\n      <td>Dana Inc</td>\n      <td>1</td>\n      <td>1.0</td>\n      <td>0</td>\n      <td>0.172375</td>\n      <td>0.611033</td>\n      <td>0.216592</td>\n      <td>7</td>\n      <td>0</td>\n      <td>0</td>\n      <td>0</td>\n      <td>0</td>\n      <td>0</td>\n      <td>0</td>\n      <td>0</td>\n      <td>0</td>\n      <td>0</td>\n      <td>0</td>\n    </tr>\n    <tr>\n      <th>3</th>\n      <td>2016-12-30 22:00:06+00:00</td>\n      <td>2016-12-30 22:00:06+00:00</td>\n      <td>2016-12-30 22:00:02+00:00</td>\n      <td>c8ee6bcb3de3a944</td>\n      <td>ENSTAR ANNOUNCES ACQUISITION OF DANA COMPANIES</td>\n      <td>1</td>\n      <td>2</td>\n      <td>RTRS</td>\n      <td>{'BLR', 'AUTO', 'MINS', 'CYCS', 'INSR', 'FINS'...</td>\n      <td>{'E', 'U'}</td>\n      <td>0</td>\n      <td>2</td>\n      <td></td>\n      <td>False</td>\n      <td>1</td>\n      <td>7</td>\n      <td>{'ESGR.OQ', 'ESGR.O'}</td>\n      <td>Enstar Group Ltd</td>\n      <td>1</td>\n      <td>1.0</td>\n      <td>0</td>\n      <td>0.172375</td>\n      <td>0.611033</td>\n      <td>0.216592</td>\n      <td>7</td>\n      <td>2</td>\n      <td>2</td>\n      <td>2</td>\n      <td>2</td>\n      <td>2</td>\n      <td>2</td>\n      <td>2</td>\n      <td>2</td>\n      <td>2</td>\n      <td>2</td>\n    </tr>\n    <tr>\n      <th>4</th>\n      <td>2016-12-30 22:00:17+00:00</td>\n      <td>2016-12-30 22:00:17+00:00</td>\n      <td>2016-12-30 21:33:44+00:00</td>\n      <td>58ea9d8a0be61c03</td>\n      <td>BRIEF-Axovant Sciences files for mixed shelf o...</td>\n      <td>3</td>\n      <td>1</td>\n      <td>RTRS</td>\n      <td>{'BLR', 'SISU', 'INDU', 'DBT', 'HECA', 'PHMR',...</td>\n      <td>{'PCO', 'PCU', 'DNP', 'PSC', 'U', 'RNP', 'NAW'...</td>\n      <td>239</td>\n      <td>1</td>\n      <td>BRIEF</td>\n      <td>False</td>\n      <td>4</td>\n      <td>65</td>\n      <td>{'AXON.N'}</td>\n      <td>Axovant Sciences Ltd</td>\n      <td>1</td>\n      <td>1.0</td>\n      <td>0</td>\n      <td>0.307338</td>\n      <td>0.378957</td>\n      <td>0.313705</td>\n      <td>58</td>\n      <td>1</td>\n      <td>1</td>\n      <td>1</td>\n      <td>1</td>\n      <td>1</td>\n      <td>1</td>\n      <td>1</td>\n      <td>1</td>\n      <td>1</td>\n      <td>1</td>\n    </tr>\n  </tbody>\n</table>\n</div>"
          },
          "metadata": {}
        }
      ]
    },
    {
      "metadata": {
        "trusted": true,
        "_uuid": "1b3e0e2a291668e4d16cb6841a371501708f959a"
      },
      "cell_type": "code",
      "source": "#prediction template\npredictions_template_df.head()",
      "execution_count": 14,
      "outputs": [
        {
          "output_type": "execute_result",
          "execution_count": 14,
          "data": {
            "text/plain": "  assetCode  confidenceValue\n0       A.N              0.0\n1      AA.N              0.0\n2     AAL.O              0.0\n3     AAN.N              0.0\n4     AAP.N              0.0",
            "text/html": "<div>\n<style scoped>\n    .dataframe tbody tr th:only-of-type {\n        vertical-align: middle;\n    }\n\n    .dataframe tbody tr th {\n        vertical-align: top;\n    }\n\n    .dataframe thead th {\n        text-align: right;\n    }\n</style>\n<table border=\"1\" class=\"dataframe\">\n  <thead>\n    <tr style=\"text-align: right;\">\n      <th></th>\n      <th>assetCode</th>\n      <th>confidenceValue</th>\n    </tr>\n  </thead>\n  <tbody>\n    <tr>\n      <th>0</th>\n      <td>A.N</td>\n      <td>0.0</td>\n    </tr>\n    <tr>\n      <th>1</th>\n      <td>AA.N</td>\n      <td>0.0</td>\n    </tr>\n    <tr>\n      <th>2</th>\n      <td>AAL.O</td>\n      <td>0.0</td>\n    </tr>\n    <tr>\n      <th>3</th>\n      <td>AAN.N</td>\n      <td>0.0</td>\n    </tr>\n    <tr>\n      <th>4</th>\n      <td>AAP.N</td>\n      <td>0.0</td>\n    </tr>\n  </tbody>\n</table>\n</div>"
          },
          "metadata": {}
        }
      ]
    },
    {
      "metadata": {
        "trusted": true,
        "_uuid": "d24516e8e71a6803cb9c1999d30e68ffd29397b2"
      },
      "cell_type": "code",
      "source": "",
      "execution_count": null,
      "outputs": []
    },
    {
      "metadata": {
        "trusted": true,
        "_uuid": "680c1db87a8e5644a2d6ca0b005786b351257200"
      },
      "cell_type": "code",
      "source": "",
      "execution_count": null,
      "outputs": []
    },
    {
      "metadata": {
        "trusted": true,
        "_uuid": "64767d0e16e465766c9bf20b961bbaac3b5533fb"
      },
      "cell_type": "code",
      "source": "",
      "execution_count": null,
      "outputs": []
    },
    {
      "metadata": {
        "trusted": true,
        "_uuid": "d54978f79a9bb4cbd470ac310ebaaf15c1c35b4f"
      },
      "cell_type": "code",
      "source": "",
      "execution_count": null,
      "outputs": []
    }
  ],
  "metadata": {
    "kernelspec": {
      "display_name": "Python 3",
      "language": "python",
      "name": "python3"
    },
    "language_info": {
      "name": "python",
      "version": "3.6.6",
      "mimetype": "text/x-python",
      "codemirror_mode": {
        "name": "ipython",
        "version": 3
      },
      "pygments_lexer": "ipython3",
      "nbconvert_exporter": "python",
      "file_extension": ".py"
    }
  },
  "nbformat": 4,
  "nbformat_minor": 1
}